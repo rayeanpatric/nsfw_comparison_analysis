{
 "cells": [
  {
   "cell_type": "code",
   "execution_count": 4,
   "id": "6455e594-0169-41c1-acb6-d29a0afb5f17",
   "metadata": {},
   "outputs": [
    {
     "name": "stdout",
     "output_type": "stream",
     "text": [
      "Model architecture diagram saved!\n"
     ]
    }
   ],
   "source": [
    "import tensorflow as tf\n",
    "from tensorflow.keras.utils import plot_model\n",
    "\n",
    "# Load the model from the .h5 file\n",
    "model = tf.keras.models.load_model('/workspace/nudenet/Models/lenet_binary_classification.h5')\n",
    "\n",
    "# Plot the model architecture\n",
    "plot_model(model, to_file='lenet_model_architecture.png', show_shapes=True, show_layer_names=True)\n",
    "\n",
    "# The diagram will be saved as 'lenet_model_architecture.png'\n",
    "print(\"Model architecture diagram saved!\")\n"
   ]
  },
  {
   "cell_type": "code",
   "execution_count": null,
   "id": "f06e1a03-180b-4d9e-aae2-9954fda8be42",
   "metadata": {},
   "outputs": [],
   "source": []
  },
  {
   "cell_type": "code",
   "execution_count": null,
   "id": "ca1f30fb-b855-4065-8a49-fc20cb5c922c",
   "metadata": {},
   "outputs": [],
   "source": []
  }
 ],
 "metadata": {
  "kernelspec": {
   "display_name": "Python 3 (ipykernel)",
   "language": "python",
   "name": "python3"
  },
  "language_info": {
   "codemirror_mode": {
    "name": "ipython",
    "version": 3
   },
   "file_extension": ".py",
   "mimetype": "text/x-python",
   "name": "python",
   "nbconvert_exporter": "python",
   "pygments_lexer": "ipython3",
   "version": "3.10.12"
  }
 },
 "nbformat": 4,
 "nbformat_minor": 5
}
