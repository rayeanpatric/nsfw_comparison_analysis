{
 "cells": [
  {
   "cell_type": "code",
   "execution_count": null,
   "id": "d0db0392-b27d-4c47-84f0-8196f807a486",
   "metadata": {},
   "outputs": [],
   "source": [
    "import os\n",
    "from PIL import Image\n",
    "\n",
    "def preprocess_images(input_dir, output_dir, target_size=(224, 224), format='JPEG'):\n",
    "    if not os.path.exists(output_dir):\n",
    "        os.makedirs(output_dir)\n",
    "    for subdir, _, files in os.walk(input_dir):\n",
    "        for file in files:\n",
    "            try:\n",
    "                img_path = os.path.join(subdir, file)\n",
    "                img = Image.open(img_path)\n",
    "                img = img.resize(target_size)\n",
    "                img = img.convert(\"RGB\")  # Ensures all images are 3-channel\n",
    "                save_path = os.path.join(output_dir, os.path.relpath(img_path, input_dir))\n",
    "                os.makedirs(os.path.dirname(save_path), exist_ok=True)\n",
    "                img.save(save_path, format=format)\n",
    "            except Exception as e:\n",
    "                print(f\"Failed to process {file}: {e}\")\n",
    "\n",
    "# Run for train, test, and valid\n",
    "preprocess_images(\"path/to/train\", \"path/to/preprocessed/train\")\n",
    "preprocess_images(\"path/to/test\", \"path/to/preprocessed/test\")\n",
    "preprocess_images(\"path/to/valid\", \"path/to/preprocessed/valid\")\n"
   ]
  },
  {
   "cell_type": "code",
   "execution_count": 2,
   "id": "99b7840c-41bc-48d8-a738-07e642ce6059",
   "metadata": {},
   "outputs": [
    {
     "name": "stdout",
     "output_type": "stream",
     "text": [
      "📂 nude_sexy_safe_v1_x320\n",
      "    📂 training\n",
      "        📂 safe\n",
      "            📂 Safe-Images.v5i.yolov9\n",
      "                📂 train\n",
      "                    📂 images\n",
      "                    📂 labels\n",
      "            📂 Relationship classification 2.v1i.folder\n",
      "                📂 test\n",
      "                    📂 0\n",
      "                    📂 2\n",
      "                    📂 1\n",
      "                📂 valid\n",
      "                    📂 0\n",
      "                    📂 2\n",
      "                    📂 1\n",
      "                📂 train\n",
      "                    📂 0\n",
      "                    📂 2\n",
      "                    📂 1\n",
      "            📂 Relationship classification.v7i.yolov9\n",
      "                📂 test\n",
      "                    📂 images\n",
      "                    📂 labels\n",
      "                📂 valid\n",
      "                    📂 images\n",
      "                    📂 labels\n",
      "                📂 train\n",
      "                    📂 images\n",
      "                    📂 labels\n",
      "        📂 nude\n",
      "            📂 prefix_output\n",
      "        📂 sexy\n",
      "    📂 validation\n",
      "        📂 safe\n",
      "            📂 output\n",
      "        📂 nude\n",
      "            📂 output\n",
      "        📂 sexy\n",
      "            📂 output\n",
      "    📂 testing\n",
      "        📂 safe\n",
      "            📂 output\n",
      "        📂 nude\n",
      "            📂 output\n",
      "        📂 sexy\n",
      "            📂 output\n"
     ]
    }
   ],
   "source": [
    "import os\n",
    "\n",
    "def print_folder_structure(root_dir, indent=\"\"):\n",
    "    for item in os.listdir(root_dir):\n",
    "        path = os.path.join(root_dir, item)\n",
    "        if os.path.isdir(path):\n",
    "            print(f\"{indent}📂 {item}\")\n",
    "            print_folder_structure(path, indent + \"    \")\n",
    "\n",
    "# Replace 'your_directory_path' with the path of the root folder\n",
    "print_folder_structure(\"/workspace/NudeNet_Classifier_train_data_x320\")\n"
   ]
  },
  {
   "cell_type": "code",
   "execution_count": null,
   "id": "0b8e57cd-3323-4528-a346-2b3f434ed4a4",
   "metadata": {},
   "outputs": [],
   "source": []
  }
 ],
 "metadata": {
  "kernelspec": {
   "display_name": "Python 3 (ipykernel)",
   "language": "python",
   "name": "python3"
  },
  "language_info": {
   "codemirror_mode": {
    "name": "ipython",
    "version": 3
   },
   "file_extension": ".py",
   "mimetype": "text/x-python",
   "name": "python",
   "nbconvert_exporter": "python",
   "pygments_lexer": "ipython3",
   "version": "3.10.12"
  }
 },
 "nbformat": 4,
 "nbformat_minor": 5
}
